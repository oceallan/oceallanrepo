{
 "cells": [
  {
   "cell_type": "markdown",
   "metadata": {},
   "source": [
    "# STAT40800 Data Programming with Python\n",
    "## Dr. Áine Byrne\n"
   ]
  },
  {
   "cell_type": "markdown",
   "metadata": {},
   "source": [
    "# Week 10\n",
    "\n",
    "This week we cover machine learning in Python. We'll use the scikit-learn library, which is a fantastically complete, easy to use and well-documented package. First we'll cover the basics of machine learning, including supervised vs unsupervised learning, and classiffcation vs regression. Then we'll go through some of the most common methods\n",
    "including lasso, support vector machines and random forests. We'll finish off with some extras including creating ROC curves\n",
    "\n",
    "This lecture is essentially a summary of the most useful bits\n",
    "from scikit-learn.org. The [examples page](scikit-learn.org/stable/auto_examples) is particularly worth reading.\n"
   ]
  },
  {
   "cell_type": "code",
   "execution_count": 1,
   "metadata": {},
   "outputs": [],
   "source": [
    "import numpy as np\n",
    "import pandas as pd\n",
    "from pandas import DataFrame, Series\n",
    "import numpy.random as npr\n",
    "import matplotlib.pyplot as plt"
   ]
  },
  {
   "cell_type": "markdown",
   "metadata": {},
   "source": [
    "# What is machine learning?\n",
    "\n",
    "A machine learning (ML) algorithm uses experience or data to make predictions about future events or observations. ML problems involve observations (dependent variable) and features (explanatory variables). The algorithm searches for relationships between the features and observations, such that future observations can be predicted.\n",
    "\n",
    "The two most common approaches to machine learning are *supervised learning* and *unsupervised learning*. Another more recent approach is *reinforcement learning*.\n",
    "\n",
    "In supervised learning we also have a response variable *y* of\n",
    "length *n*. We want to be able to predict *y* from the features *X*. The relationship between the *X* and *y* may be non-linear and involve complicated interactions.\n",
    "Unlike the regression algorithms considered last week, we are typically only interested in which features (i.e. the columns) of *X* are important in predicting *y* and don't usually care too\n",
    "much about the structure of the relationship. As such, we're happy\n",
    "to use *black box methods*.\n",
    "\n",
    "We will cover unsupervised learning and reinforcement learning next week.\n",
    "\n",
    "\n",
    "## Regression versus classification\n",
    "If *y* is a quantitative variable we are essentially performing *regression*. Whereas. if *y* is a categorical variable we are performing classification.\n",
    "We will only cover the case of classification where *y* is binary.\n",
    "\n",
    "## Training and test sets\n",
    "A very common approach in ML is to split the data (i.e. both *X* and *y*) up into training and test sets. The training set is used to fit the model whilst the test set is used to evaluate performance and possible compare between different approaches. It is common to use 75% of the data for training purposes and the remaining 25% for the test data.\n",
    "\n",
    "# Machine learning in Python\n",
    "The scikit-learn (often shortened to sklearn) package is a very\n",
    "comprehensive set of ML tools for fitting and evaluating\n",
    "prediction methods\n",
    "\n",
    "All of the methods are fitted in roughly the same manner, making it very easy to learn and hence compare the performance of different methods.\n",
    "\n",
    "\n",
    "## sklearn datasets\n",
    "As sklearn is a rather large package, we will install individual modules as we go. The first of which is `datasets` which contains a number of sample datasets for ML."
   ]
  },
  {
   "cell_type": "code",
   "execution_count": 2,
   "metadata": {},
   "outputs": [],
   "source": [
    "from sklearn import datasets"
   ]
  },
  {
   "cell_type": "markdown",
   "metadata": {},
   "source": [
    "For the first part of this lecture we will use the diabetes data set from Efron et al (2004) \"Least Angle Regression\", Annals of Statistics, 407-499. It contains 10 features and 442 observations, plus a response variable which measures disease progression."
   ]
  },
  {
   "cell_type": "code",
   "execution_count": 3,
   "metadata": {},
   "outputs": [],
   "source": [
    "diabetes = datasets.load_diabetes()"
   ]
  },
  {
   "cell_type": "markdown",
   "metadata": {},
   "source": [
    "The sklearn datasets all come with a `.target` (the response\n",
    "variable) and a `.data` (feature matrix) attribute, which are NumPy arrays. The column headings for the features are also included, and can be accessed using `.feature_names`."
   ]
  },
  {
   "cell_type": "code",
   "execution_count": 4,
   "metadata": {},
   "outputs": [
    {
     "data": {
      "text/plain": [
       "['age', 'sex', 'bmi', 'bp', 's1', 's2', 's3', 's4', 's5', 's6']"
      ]
     },
     "execution_count": 4,
     "metadata": {},
     "output_type": "execute_result"
    }
   ],
   "source": [
    "diabetes.feature_names"
   ]
  },
  {
   "cell_type": "markdown",
   "metadata": {},
   "source": [
    "We will need to convert the feature matrix and response vector into a DataFrame and Series, respectively. We will then standardise our feature matrix."
   ]
  },
  {
   "cell_type": "code",
   "execution_count": 5,
   "metadata": {},
   "outputs": [],
   "source": [
    "X_raw = DataFrame(diabetes.data,columns=diabetes.feature_names)\n",
    "X_std = (X_raw - X_raw.mean())/X_raw.std()\n",
    "y = Series(diabetes.target)"
   ]
  },
  {
   "cell_type": "markdown",
   "metadata": {},
   "source": [
    "To make things more interesting we will append 100 noise variables onto *X*. These should not come out as important variables in determining *y*."
   ]
  },
  {
   "cell_type": "code",
   "execution_count": 11,
   "metadata": {},
   "outputs": [],
   "source": [
    "np.random.seed(123)\n",
    "X = X_std.join(DataFrame(np.random.randn(len(y), 100)))"
   ]
  },
  {
   "cell_type": "markdown",
   "metadata": {},
   "source": [
    "#### Exercise 1\n",
    "Load in the Boston house prices dataset from sklearn (`load_boston`). Convert the feature matrix and response vector into pandas objects, as was done for the diabetes dataset. Then standardise the feature matrix."
   ]
  },
  {
   "cell_type": "code",
   "execution_count": 9,
   "metadata": {},
   "outputs": [
    {
     "data": {
      "text/plain": [
       "0    24.0\n",
       "1    21.6\n",
       "2    34.7\n",
       "3    33.4\n",
       "4    36.2\n",
       "dtype: float64"
      ]
     },
     "execution_count": 9,
     "metadata": {},
     "output_type": "execute_result"
    }
   ],
   "source": [
    "boston = datasets.load_boston()\n",
    "B_raw = DataFrame(boston.data,columns = boston.feature_names)\n",
    "B_std = (B_raw - B_raw.mean())/B_raw.std()\n",
    "yB = Series(boston.target)\n",
    "#B_std.head()\n",
    "yB.head()"
   ]
  },
  {
   "cell_type": "markdown",
   "metadata": {},
   "source": [
    "## Training and test sets\n",
    "We have 442 observations so will split the data into training and test sets of size 332 and 110 respectively. Importantly, the data for each set must be selected randomly and each observation must only appear in one of the sets.\n"
   ]
  },
  {
   "cell_type": "code",
   "execution_count": 12,
   "metadata": {},
   "outputs": [],
   "source": [
    "train_size = 332\n",
    "np.random.seed(123)\n",
    "train_select = np.random.permutation(range(len(y)))\n",
    "X_train = X.iloc[train_select[:train_size],:].reset_index(drop=True)\n",
    "X_test = X.iloc[train_select[train_size:],:].reset_index(drop=True)\n",
    "y_train = y[train_select[:train_size]].reset_index(drop=True)\n",
    "y_test = y[train_select[train_size:]].reset_index(drop=True)"
   ]
  },
  {
   "cell_type": "code",
   "execution_count": null,
   "metadata": {},
   "outputs": [],
   "source": []
  },
  {
   "cell_type": "markdown",
   "metadata": {},
   "source": [
    "**Note:** `reset_index` drops the original row index and resets it, such that the first row has index 0, second has index 1, and so on. "
   ]
  },
  {
   "cell_type": "markdown",
   "metadata": {},
   "source": [
    "#### Exercise 2\n",
    "Split the Boston house price data into training and test sets, of size 380 and 126, respectively. Use 99 as the random seed value for your permutation. Is the mean house price roughly the same in both training and test sets?"
   ]
  },
  {
   "cell_type": "code",
   "execution_count": null,
   "metadata": {},
   "outputs": [],
   "source": []
  },
  {
   "cell_type": "markdown",
   "metadata": {},
   "source": [
    "# Regression\n",
    "\n",
    "## Linear regression\n",
    "\n",
    "We'll start by performing standard linear regression on the data, which requires the `linear_model` module of sklearn"
   ]
  },
  {
   "cell_type": "code",
   "execution_count": 13,
   "metadata": {},
   "outputs": [],
   "source": [
    "from sklearn import linear_model"
   ]
  },
  {
   "cell_type": "markdown",
   "metadata": {},
   "source": [
    "This module contains lots of different regression methods. We will use the `LinearRegression` function to perform a linear regression. We then apply the `fit` method to our model using the training data."
   ]
  },
  {
   "cell_type": "code",
   "execution_count": 14,
   "metadata": {},
   "outputs": [
    {
     "data": {
      "text/plain": [
       "LinearRegression()"
      ]
     },
     "execution_count": 14,
     "metadata": {},
     "output_type": "execute_result"
    }
   ],
   "source": [
    "reg = linear_model.LinearRegression()\n",
    "reg.fit(X_train,y_train)"
   ]
  },
  {
   "cell_type": "markdown",
   "metadata": {},
   "source": [
    "Once fitted, we can look at the regression coefficients. These are the $\\beta$ values we computed last week."
   ]
  },
  {
   "cell_type": "code",
   "execution_count": 15,
   "metadata": {},
   "outputs": [
    {
     "data": {
      "text/plain": [
       "array([ 6.94101162e-01, -1.45485310e+01,  2.20912506e+01,  1.59949206e+01,\n",
       "       -5.16815212e+01,  3.26997569e+01,  1.12646067e+01,  1.15771276e+01,\n",
       "        4.66156877e+01,  6.40589549e-01,  5.69844337e+00, -5.20345814e+00,\n",
       "        4.35039738e+00, -7.41160700e+00,  3.83913026e+00, -1.46034820e+00,\n",
       "        3.83423651e+00,  2.32904424e+00, -3.58770210e+00,  4.14236350e+00,\n",
       "       -2.80480423e+00, -1.42578103e+00,  5.00013541e+00,  6.49457407e-02,\n",
       "        2.75110751e+00,  2.12519253e+00, -2.71520532e+00,  3.37148717e+00,\n",
       "        1.18387356e+00,  8.92822466e-01,  5.35637573e+00,  2.63716409e+00,\n",
       "       -5.47520670e+00,  3.39824612e+00,  1.81672801e+00,  1.69346937e+00,\n",
       "       -7.66282467e+00,  1.34215721e+00,  2.59334407e+00,  5.16084146e+00,\n",
       "        1.87613337e+00, -3.80979019e+00, -4.33015305e+00,  4.10268824e-01,\n",
       "        1.87688939e+00,  4.71378884e-01, -1.47945802e+00, -1.17669112e+00,\n",
       "        4.79993609e+00,  1.64017361e+00, -7.88291802e-01, -2.79983556e+00,\n",
       "       -5.52671987e-01, -2.96066762e+00, -4.95758929e-01,  2.83347748e+00,\n",
       "        2.88545076e+00, -2.04143125e+00, -4.50074751e+00, -4.89705131e-01,\n",
       "       -4.37675321e+00,  2.48756297e+00, -5.39662065e+00,  9.82299986e-01,\n",
       "       -1.76798007e+00, -1.99461015e+00, -3.44179171e-02,  1.16174548e+00,\n",
       "       -7.28081105e-01, -4.61930903e+00,  9.21813563e-01,  5.97725852e-02,\n",
       "       -4.32446379e-01,  6.40451115e+00, -2.61017196e+00,  4.31952740e+00,\n",
       "        2.16064698e+00,  1.02964108e-03,  2.33970458e-01,  5.83716531e-01,\n",
       "       -3.01211025e+00, -1.44013494e+00, -4.08789050e+00, -5.82870564e+00,\n",
       "        2.36165579e+00, -1.48998415e+00, -1.76285339e+00, -4.72884881e+00,\n",
       "       -4.69385819e+00, -3.77429776e+00,  6.94040249e+00,  1.31012125e+00,\n",
       "        9.61380719e-01,  4.05083346e+00,  3.90150824e+00,  3.78888693e+00,\n",
       "        3.43243716e+00, -5.32842333e+00, -2.53523533e-01, -1.20056692e+00,\n",
       "       -5.00248912e+00,  1.54006528e+00, -1.58141670e+00,  2.02799992e+00,\n",
       "       -3.18530986e+00,  5.31746171e+00, -2.57186120e+00,  3.59622845e+00,\n",
       "        3.87461254e+00, -7.90588405e-01])"
      ]
     },
     "execution_count": 15,
     "metadata": {},
     "output_type": "execute_result"
    }
   ],
   "source": [
    "reg.coef_"
   ]
  },
  {
   "cell_type": "markdown",
   "metadata": {},
   "source": [
    "We can also use the model to predict the response variable for unseen data, such as the test data."
   ]
  },
  {
   "cell_type": "code",
   "execution_count": 16,
   "metadata": {},
   "outputs": [],
   "source": [
    "reg_test_pred = reg.predict(X_test)"
   ]
  },
  {
   "cell_type": "markdown",
   "metadata": {},
   "source": [
    "A sensible way to assess the model's performance is to plot the actual values of y versus the predictions.\n",
    "\n"
   ]
  },
  {
   "cell_type": "code",
   "execution_count": 17,
   "metadata": {},
   "outputs": [
    {
     "data": {
      "text/plain": [
       "[<matplotlib.lines.Line2D at 0x7f893eebc190>]"
      ]
     },
     "execution_count": 17,
     "metadata": {},
     "output_type": "execute_result"
    },
    {
     "data": {
      "image/png": "[encoded data removed]",
      "text/plain": [
       "<Figure size 432x288 with 1 Axes>"
      ]
     },
     "metadata": {
      "needs_background": "light"
     },
     "output_type": "display_data"
    }
   ],
   "source": [
    "fig = plt.figure()\n",
    "plt.plot(y_test,reg_test_pred,'kx')\n",
    "plt.plot(plt.xlim(), plt.ylim(), ls=\"--\")"
   ]
  },
  {
   "cell_type": "markdown",
   "metadata": {},
   "source": [
    "The mean square error (MSE) will also tell us how well the model performs. The MSE is a measure of the discrepancy between the data and an estimation model, where a small value indicates a tight fit."
   ]
  },
  {
   "cell_type": "code",
   "execution_count": 18,
   "metadata": {},
   "outputs": [
    {
     "name": "stdout",
     "output_type": "stream",
     "text": [
      "4274.381477876535\n"
     ]
    }
   ],
   "source": [
    "MSE_reg = np.mean(pow((reg_test_pred - y_test),2))\n",
    "print(MSE_reg)"
   ]
  },
  {
   "cell_type": "markdown",
   "metadata": {},
   "source": [
    "#### Exercise 3\n",
    "Fit a linear regression model to the training data for the Boston house price dataset. Use the model to predict the house prices for the test set and compare the results to the true house prices. What is the mean square error?"
   ]
  },
  {
   "cell_type": "code",
   "execution_count": null,
   "metadata": {},
   "outputs": [],
   "source": []
  },
  {
   "cell_type": "markdown",
   "metadata": {},
   "source": [
    "## Lasso method\n",
    "\n",
    "In standard least squares linear regression we try to solve the\n",
    "following optimisation problem:\n",
    "\n",
    "$$\\text{Find the }\\hat{\\beta}\\text{ that minimises}\\sum_{i=1}^n\\left(y_i - \\beta_0 - \\sum_{j=1}^p x_{ij}\\beta_j\\right)^2$$\n",
    "\n",
    "where $n$ is the number of observations and $p$ is the number of features/independent variables.\n",
    "\n",
    "This can also be written as:\n",
    "$$\\hat{\\beta}=\\underset{\\beta}{\\text{argmin}}\\sum_{i=1}^n\\left(y_i - \\beta_0 - \\sum_{j=1}^p x_{ij}\\beta_j\\right)^2$$\n",
    "\n",
    "In lasso regression the poblem changes to:\n",
    "$$\\hat{\\beta}_{lasso}=\\underset{\\beta}{\\text{argmin}}\\sum_{i=1}^n\\left(y_i - \\beta_0 - \\sum_{j=1}^p x_{ij}\\beta_j\\right)^2\\text{ subject to }\\sum_{j=1}^p |\\beta_j|<t$$\n",
    "\n",
    "As with forward selection AIC regression, lasso tries to minimise the number of variables included in the model.\n",
    "\n",
    "A useful way to re-write the lasso equation is:\n",
    "$$\\hat{\\beta}_{lasso}=\\underset{\\beta}{\\text{argmin}}\\left[\\sum_{i=1}^n\\left(y_i - \\beta_0 - \\sum_{j=1}^p x_{ij}\\beta_j\\right)^2+\\lambda\\sum_{j=1}^p |\\beta_j|\\right]$$\n",
    "where the parameter $\\lambda$ controls the degree of shrinkage of the $\\beta$s.\n",
    "If $\\lambda$ is very large many of the $\\beta$s will be set to 0 and the number of variable included in the model will be small.\n",
    "\n",
    "The parameter $\\lambda$ can be chosen by cross-validation; sklearn has a function `LassoCV` for this. The argument `cv` specifies the number of folds in our cross-validation.\n"
   ]
  },
  {
   "cell_type": "code",
   "execution_count": 14,
   "metadata": {},
   "outputs": [
    {
     "name": "stdout",
     "output_type": "stream",
     "text": [
      "[ 0.         -4.78739249 22.50182784  6.58741175 -0.         -0.\n",
      " -5.55239479  0.         27.29867121  0.          0.         -0.\n",
      "  0.         -0.          0.         -0.          0.          0.\n",
      " -0.          0.         -0.         -0.          0.         -0.\n",
      "  0.25163084 -0.         -0.          0.         -0.          0.\n",
      " -0.          0.         -0.          0.          0.          0.\n",
      " -0.          0.          0.          0.          0.         -0.\n",
      " -0.          0.          0.         -0.         -0.         -0.\n",
      "  0.          0.          0.         -0.         -0.         -0.\n",
      " -0.          0.          0.         -0.         -0.         -0.\n",
      " -0.          0.         -0.          0.         -0.         -0.\n",
      " -0.         -0.         -0.         -0.          0.          0.\n",
      "  0.          0.         -0.          0.          0.          0.\n",
      " -0.         -0.         -0.         -0.         -0.         -0.\n",
      "  0.          0.         -0.         -0.         -0.7032212  -0.\n",
      "  0.          0.          0.         -0.          1.2226646   0.\n",
      "  0.         -0.          0.         -0.         -0.         -0.\n",
      " -0.          0.         -0.          0.          0.          0.\n",
      "  0.         -0.        ]\n"
     ]
    }
   ],
   "source": [
    "lasso = linear_model.LassoCV(cv=10)\n",
    "lasso.fit(X_train, y_train)\n",
    "print(lasso.coef_)"
   ]
  },
  {
   "cell_type": "code",
   "execution_count": 15,
   "metadata": {},
   "outputs": [],
   "source": [
    "linear_model.LassoCV?"
   ]
  },
  {
   "cell_type": "code",
   "execution_count": 16,
   "metadata": {},
   "outputs": [
    {
     "data": {
      "text/plain": [
       "[<matplotlib.lines.Line2D at 0x122c89ed0>]"
      ]
     },
     "execution_count": 16,
     "metadata": {},
     "output_type": "execute_result"
    },
    {
     "data": {
      "image/png": "[encoded data removed]",
      "text/plain": [
       "<Figure size 432x288 with 1 Axes>"
      ]
     },
     "metadata": {
      "needs_background": "light"
     },
     "output_type": "display_data"
    }
   ],
   "source": [
    "lasso_test_pred = lasso.predict(X_test)\n",
    "fig = plt.figure()\n",
    "plt.plot(y_test,lasso_test_pred,'kx')\n",
    "plt.plot(plt.xlim(), plt.ylim(), ls=\"--\")"
   ]
  },
  {
   "cell_type": "code",
   "execution_count": 17,
   "metadata": {},
   "outputs": [
    {
     "name": "stdout",
     "output_type": "stream",
     "text": [
      "3371.885042464712\n"
     ]
    }
   ],
   "source": [
    "MSE_lasso = np.mean(pow((lasso_test_pred- y_test),2))\n",
    "print(MSE_lasso)"
   ]
  },
  {
   "cell_type": "markdown",
   "metadata": {},
   "source": [
    "Fitting methods for the lasso are very fast; it can handle\n",
    "hundreds of thousands of features with ease.\n",
    "\n",
    "**Note:** lasso is still a linear model, and it does not\n",
    "include any interactions between variables unless specifically\n",
    "included in the X matrix."
   ]
  },
  {
   "cell_type": "markdown",
   "metadata": {},
   "source": [
    "## Support vector regression\n",
    "\n",
    "Support vector machines (SVMs; here called support vector regression SVR) are usually used for classification (studied later) but can also be used for regression.\n",
    "\n",
    "The method is somewhat similar to the lasso but uses a different loss function, where only those points which contribute a large amount to the mean square error are used in the prediction; these are the so-called support vectors.\n",
    "With some clever kernel tricks, the method can project into\n",
    "higher dimensions to find the optimal regression planes.\n",
    "\n",
    "SVR is somewhat of a black box method, the underlying algorithm is not easily understood.\n",
    "\n",
    "The module for SVR is `svm` and we will use the `SVR` function from that module. The syntax is similar to the previously considered methods."
   ]
  },
  {
   "cell_type": "code",
   "execution_count": 19,
   "metadata": {},
   "outputs": [
    {
     "name": "stdout",
     "output_type": "stream",
     "text": [
      "5671.444718730306\n"
     ]
    }
   ],
   "source": [
    "from sklearn import svm\n",
    "my_svm = svm.SVR(gamma='scale')\n",
    "my_svm.fit(X_train, y_train)\n",
    "svm_test_pred = my_svm.predict(X_test)\n",
    "MSE_svm = np.mean(pow((svm_test_pred- y_test),2))\n",
    "print(MSE_svm)"
   ]
  },
  {
   "cell_type": "code",
   "execution_count": 20,
   "metadata": {},
   "outputs": [],
   "source": [
    "svm.SVR?"
   ]
  },
  {
   "cell_type": "markdown",
   "metadata": {},
   "source": [
    "## Random forest regression\n",
    "\n",
    "Random forest regression works by creating lots of different decision trees based on subsets of the dataset. \n",
    "Each decision tree involves a series of simple yes/no questions.\n",
    "The trees are then combined so that the resulting\n",
    "prediction is an average of the predictions from each of the\n",
    "trees.\n",
    "\n",
    "Each individual tree is a weak learner, but when used\n",
    "together the trees can predict a very wide variety of non-linear\n",
    "behaviour with complex interactions; a phenomenon known as\n",
    "*boosting*\n",
    "Because each tree is built on a subset of the data, it is very\n",
    "fast and easy to parellelise\n",
    "\n",
    "\n",
    "<img src=\"https://i0.wp.com/dataaspirant.com/wp-content/uploads/2017/04/Random-Forest-Introduction.jpg?w=800&ssl=1\" width=800 />\n",
    "\n",
    "Taken from https://dataaspirant.com/random-forest-algorithm-machine-learing/\n",
    "\n",
    "For random forest regression, we load in the `RandomForestRegressor` function from the `ensemble` module of sklearn. The model is fit in a similar fashion to the previous models."
   ]
  },
  {
   "cell_type": "code",
   "execution_count": 20,
   "metadata": {},
   "outputs": [
    {
     "name": "stdout",
     "output_type": "stream",
     "text": [
      "3593.2612690909086\n"
     ]
    }
   ],
   "source": [
    "from sklearn.ensemble import RandomForestRegressor\n",
    "rf = RandomForestRegressor(n_estimators=100)\n",
    "rf.fit(X_train, y_train)\n",
    "rf_test_pred = rf.predict(X_test)\n",
    "MSE_rf = np.mean(pow((rf_test_pred- y_test),2))\n",
    "print(MSE_rf)"
   ]
  },
  {
   "cell_type": "code",
   "execution_count": 21,
   "metadata": {},
   "outputs": [],
   "source": [
    "RandomForestRegressor?"
   ]
  },
  {
   "cell_type": "markdown",
   "metadata": {},
   "source": [
    "Other supervised learning techniques include:\n",
    "* *k* nearest neighbours\n",
    "* Gaussian processes\n",
    "* Other versions of lasso\n",
    "* Neural networks\n",
    "* Smoothing splines"
   ]
  },
  {
   "cell_type": "markdown",
   "metadata": {},
   "source": [
    "#### Exercise 4\n",
    "\n",
    "An simpler alternative to random forests is Decision Tree Regression (sometimes found under the name Classification And Regression Trees; CART). For examples, see\n",
    "\n",
    "http://scikit-learn.org/stable/auto_examples/tree/plot_tree_regression.html#example-tree-plot-tree-regression-py\n",
    "\n",
    "Using the standardise Boston house price data, fit a decision tree model with `max_depth=10` and `max_depth=5` and a random forest model with `max_depth=10` and `max_depth=5` (keeping the number of trees fixed at 10). The model should be fit to the training data and predictions should be made using the test data.\n",
    "\n",
    "Which model gives the lowest mean square error?\n",
    "\n",
    "**Note:** Include the extra argument `random_state=246` or specify the seed before each model fit"
   ]
  },
  {
   "cell_type": "code",
   "execution_count": null,
   "metadata": {},
   "outputs": [],
   "source": []
  },
  {
   "cell_type": "markdown",
   "metadata": {},
   "source": [
    "# Classification\n",
    "\n",
    "In this section we will re-analyse the South African heart disease dataset from last week."
   ]
  },
  {
   "cell_type": "code",
   "execution_count": 22,
   "metadata": {},
   "outputs": [],
   "source": [
    "SA = pd.read_csv('http://statweb.stanford.edu/~tibs/ElemStatLearn/datasets/SAheart.data')\n",
    "X_raw = SA.drop(['row.names','famhist','chd'],axis=1)\n",
    "X_raw_std = (X_raw-X_raw.mean())/X_raw.std()\n",
    "y = SA.chd\n",
    "np.random.seed(123)\n",
    "X = X_raw_std.join(DataFrame(np.random.randn(len(y), 100)))"
   ]
  },
  {
   "cell_type": "markdown",
   "metadata": {},
   "source": [
    "Split into training and test sets"
   ]
  },
  {
   "cell_type": "code",
   "execution_count": 23,
   "metadata": {},
   "outputs": [],
   "source": [
    "train_size = 347\n",
    "np.random.seed(123)\n",
    "train_select = np.random.permutation(range(len(y)))\n",
    "X_train = X.iloc[train_select[:train_size],:].reset_index(drop=True)\n",
    "X_test = X.iloc[train_select[train_size:],:].reset_index(drop=True)\n",
    "y_train = y[train_select[:train_size]].reset_index(drop=True)\n",
    "y_test = y[train_select[train_size:]].reset_index(drop=True)"
   ]
  },
  {
   "cell_type": "markdown",
   "metadata": {},
   "source": [
    "## Logistic Regression\n",
    "For logistic regresssion we use the `LogisticRegression` function from the `linear_model` module of sklearn. We will load in the function directly to save havign to write the module name every time."
   ]
  },
  {
   "cell_type": "code",
   "execution_count": 24,
   "metadata": {},
   "outputs": [],
   "source": [
    "from sklearn.linear_model import LogisticRegression\n",
    "logreg = LogisticRegression(solver='lbfgs')\n",
    "logreg.fit(X_train, y_train)\n",
    "logreg_test_pred = logreg.predict(X_test)"
   ]
  },
  {
   "cell_type": "markdown",
   "metadata": {},
   "source": [
    "`crosstab` is a useful function that compues the number of true negatives, false negatives, false positives and true positives. This is also known as the confusion matrix."
   ]
  },
  {
   "cell_type": "code",
   "execution_count": 25,
   "metadata": {},
   "outputs": [
    {
     "name": "stdout",
     "output_type": "stream",
     "text": [
      "chd     0   1\n",
      "row_0        \n",
      "0      54  24\n",
      "1      18  19\n"
     ]
    }
   ],
   "source": [
    "logreg_cross = pd.crosstab(logreg_test_pred,y_test)\n",
    "print(logreg_cross)"
   ]
  },
  {
   "cell_type": "markdown",
   "metadata": {},
   "source": [
    "The misclassification rate is the percentage of incorrect results, i.e. (false positive + false negtaives)/number of data points"
   ]
  },
  {
   "cell_type": "code",
   "execution_count": 26,
   "metadata": {},
   "outputs": [
    {
     "name": "stdout",
     "output_type": "stream",
     "text": [
      "36.52173913043478\n"
     ]
    }
   ],
   "source": [
    "logreg_misclas = (logreg_cross.iloc[0,1]+logreg_cross.iloc[1,0])/np.sum(logreg_cross.values)*100\n",
    "print(logreg_misclas)"
   ]
  },
  {
   "cell_type": "markdown",
   "metadata": {},
   "source": [
    "`predict` predicts the category (0 or 1 in this case), while `predict_proba` will give the probability of the result being in each category.\n"
   ]
  },
  {
   "cell_type": "code",
   "execution_count": 27,
   "metadata": {},
   "outputs": [
    {
     "name": "stdout",
     "output_type": "stream",
     "text": [
      "[0 0 1 0 1 1 0 1 0 0] \n",
      "\n",
      "[[0.97932838 0.02067162]\n",
      " [0.57132964 0.42867036]\n",
      " [0.36590344 0.63409656]\n",
      " [0.97729985 0.02270015]\n",
      " [0.053005   0.946995  ]\n",
      " [0.05687871 0.94312129]\n",
      " [0.7305879  0.2694121 ]\n",
      " [0.27394274 0.72605726]\n",
      " [0.5792155  0.4207845 ]\n",
      " [0.84200993 0.15799007]]\n"
     ]
    }
   ],
   "source": [
    "print(logreg_test_pred[:10],'\\n')\n",
    "logreg_test_prob = logreg.predict_proba(X_test)\n",
    "print(logreg_test_prob[:10])"
   ]
  },
  {
   "cell_type": "code",
   "execution_count": 28,
   "metadata": {},
   "outputs": [
    {
     "name": "stdout",
     "output_type": "stream",
     "text": [
      "[0 0 1 0 1 1 0 1 0 0]\n"
     ]
    }
   ],
   "source": [
    "print(logreg_test_pred[:10])"
   ]
  },
  {
   "cell_type": "markdown",
   "metadata": {},
   "source": [
    "## Lasso logistic regression\n",
    "There's no easy way to do cross-validation and so estimating the shrinkage parameter $\\lambda$ needs to be performed manually. We choose an arbitrary penalty $C\\sim 1/\\lambda$."
   ]
  },
  {
   "cell_type": "code",
   "execution_count": 29,
   "metadata": {},
   "outputs": [
    {
     "name": "stdout",
     "output_type": "stream",
     "text": [
      "chd     0   1\n",
      "row_0        \n",
      "0      64  30\n",
      "1       8  13\n"
     ]
    }
   ],
   "source": [
    "lassologreg = LogisticRegression(solver='saga',penalty='l1',C=0.1)\n",
    "lassologreg.fit(X_train, y_train) \n",
    "lassologreg_test_pred = lassologreg.predict(X_test)\n",
    "lassologreg_cross = pd.crosstab(lassologreg_test_pred,y_test)\n",
    "print(lassologreg_cross)"
   ]
  },
  {
   "cell_type": "code",
   "execution_count": 30,
   "metadata": {},
   "outputs": [
    {
     "name": "stdout",
     "output_type": "stream",
     "text": [
      "36.52173913043478\n"
     ]
    }
   ],
   "source": [
    "lassologreg_misclas = (lassologreg_cross.iloc[0,1]+lassologreg_cross.iloc[1,0])/np.sum(lassologreg_cross.values)*100\n",
    "print(logreg_misclas)"
   ]
  },
  {
   "cell_type": "markdown",
   "metadata": {},
   "source": [
    "## Random forest classification\n",
    "For random forest classification we use the `RandomForestClassifier` from the `ensemble` module of sklearn."
   ]
  },
  {
   "cell_type": "code",
   "execution_count": 31,
   "metadata": {},
   "outputs": [
    {
     "name": "stdout",
     "output_type": "stream",
     "text": [
      "chd     0   1\n",
      "row_0        \n",
      "0      67  37\n",
      "1       5   6\n"
     ]
    }
   ],
   "source": [
    "from sklearn.ensemble import RandomForestClassifier\n",
    "rf_clf = RandomForestClassifier(n_estimators=100)\n",
    "rf_clf_fit = rf_clf.fit(X_train, y_train)\n",
    "rf_clf_test_pred = rf_clf_fit.predict(X_test)\n",
    "rf_clf_cross = pd.crosstab(rf_clf_test_pred,y_test)\n",
    "print(rf_clf_cross)"
   ]
  },
  {
   "cell_type": "code",
   "execution_count": 32,
   "metadata": {},
   "outputs": [
    {
     "name": "stdout",
     "output_type": "stream",
     "text": [
      "36.52173913043478\n"
     ]
    }
   ],
   "source": [
    "rf_clf_misclas = (rf_clf_cross.iloc[0,1]+rf_clf_cross.iloc[1,0])/np.sum(rf_clf_cross.values)*100\n",
    "print(rf_clf_misclas)"
   ]
  },
  {
   "cell_type": "markdown",
   "metadata": {},
   "source": [
    "## Support vector machine\n",
    "As mentioned in the regression section, support vector machine can be used for classification problems. The model is fit in a similar fashion to the previous models."
   ]
  },
  {
   "cell_type": "code",
   "execution_count": 33,
   "metadata": {},
   "outputs": [
    {
     "name": "stdout",
     "output_type": "stream",
     "text": [
      "chd     0   1\n",
      "row_0        \n",
      "0      69  41\n",
      "1       3   2\n"
     ]
    }
   ],
   "source": [
    "svm_clf = svm.SVC(probability=True,gamma='scale')\n",
    "svm_clf_fit = svm_clf.fit(X_train, y_train)\n",
    "svm_clf_test_pred = svm_clf_fit.predict(X_test)\n",
    "svm_clf_cross = pd.crosstab(svm_clf_test_pred,y_test)\n",
    "print(svm_clf_cross)"
   ]
  },
  {
   "cell_type": "code",
   "execution_count": 34,
   "metadata": {},
   "outputs": [
    {
     "name": "stdout",
     "output_type": "stream",
     "text": [
      "38.26086956521739\n"
     ]
    }
   ],
   "source": [
    "svm_clf_misclas = (svm_clf_cross.iloc[0,1]+svm_clf_cross.iloc[1,0])/np.sum(svm_clf_cross.values)*100\n",
    "print(svm_clf_misclas)"
   ]
  },
  {
   "cell_type": "markdown",
   "metadata": {},
   "source": [
    "#### Exercise 5\n",
    "Load in the iris dataset from sklearn (`load_iris`) and format the data as done for previous sklearn datasets. Split the data into training and test sets of length 115 and 35, respectively. Use a seed value of 123 when perturmuting the indices.\n",
    "\n",
    "Fit a random forest classification (with 20 trees) to the training set and predict the outcomes for the test set. Compute the misclassification rate, noting that there are now 3 categories."
   ]
  },
  {
   "cell_type": "code",
   "execution_count": null,
   "metadata": {},
   "outputs": [],
   "source": []
  },
  {
   "cell_type": "markdown",
   "metadata": {},
   "source": [
    "# Other features of sklearn\n",
    "sklearn has a load of other features including data\n",
    "manipulation, model selection, and dimension reduction.\n",
    "\n",
    "One useful example is creating ROC curves for binary\n",
    "classifiers. The ROC curve aims to quantify how well a classifier beats a random classifier for any level of probability cut-off. An overview of ROC curves can be found here: http://en.wikipedia.org/wiki/Receiver_operating_characteristic. The idea is to plot the false positive rate against the true positive rate for every cut-off value.\n",
    "\n",
    "We will compute the ROC curves for each of our classifiers and compare the results.\n",
    "To do this we need the probability of a positive result for each set of feature values."
   ]
  },
  {
   "cell_type": "code",
   "execution_count": 35,
   "metadata": {},
   "outputs": [],
   "source": [
    "logreg_test_prob = logreg.predict_proba(X_test)[:,1]\n",
    "lassologreg_test_prob = lassologreg.predict_proba(X_test)[:,1]\n",
    "rf_test_prob = rf_clf_fit.predict_proba(X_test)[:,1]\n",
    "svm_test_prob = svm_clf_fit.predict_proba(X_test)[:,1]"
   ]
  },
  {
   "cell_type": "markdown",
   "metadata": {},
   "source": [
    "Now we compute the ROC curves and calculate the area under the curve (AUC) for each. The AUC is a measure of how good the model is at distinguishing between classes. The higher the AUC the better."
   ]
  },
  {
   "cell_type": "code",
   "execution_count": 36,
   "metadata": {},
   "outputs": [],
   "source": [
    "from sklearn.metrics import roc_curve, auc\n",
    "roc_lr = roc_curve(y_test, logreg_test_prob) \n",
    "lr_auc = auc(roc_lr[0],roc_lr[1])\n",
    "roc_lassolr = roc_curve(y_test, lassologreg_test_prob)\n",
    "lassolr_auc = auc(roc_lassolr[0],roc_lassolr[1])\n",
    "roc_rf = roc_curve(y_test, rf_test_prob)\n",
    "rf_auc = auc(roc_rf[0],roc_rf[1])\n",
    "roc_svm = roc_curve(y_test, svm_test_prob)\n",
    "svm_auc = auc(roc_svm[0],roc_svm[1])"
   ]
  },
  {
   "cell_type": "markdown",
   "metadata": {},
   "source": [
    "Finally, we'll plot the false positive rate against the true positive rate for each."
   ]
  },
  {
   "cell_type": "code",
   "execution_count": 37,
   "metadata": {},
   "outputs": [
    {
     "data": {
      "text/plain": [
       "Text(0.5, 1.0, 'ROC curves for three different models applied to SA heart data')"
      ]
     },
     "execution_count": 37,
     "metadata": {},
     "output_type": "execute_result"
    },
    {
     "data": {
      "image/png": "[encoded data removed]",
      "text/plain": [
       "<Figure size 432x288 with 1 Axes>"
      ]
     },
     "metadata": {
      "needs_background": "light"
     },
     "output_type": "display_data"
    }
   ],
   "source": [
    "plt.figure()\n",
    "plt.plot(roc_lr[0],roc_lr[1],label='Logistic (AUC = {0:0.2f})'.format(lr_auc))\n",
    "plt.plot(roc_lassolr[0],roc_lassolr[1],label='Lasso logistic (AUC = {0:0.2f})'.format(lassolr_auc))\n",
    "plt.plot(roc_rf[0],roc_rf[1],label='Random forest (AUC = {0:0.2f})'.format(rf_auc))\n",
    "plt.plot(roc_svm[0],roc_svm[1],label='Support vector machine (AUC = {0:0.2f})'.format(svm_auc))\n",
    "plt.legend(loc='lower right')\n",
    "plt.xlim([0.0, 1.0])\n",
    "plt.ylim([0.0, 1.05])\n",
    "plt.xlabel('False Positive Rate')\n",
    "plt.ylabel('True Positive Rate')\n",
    "plt.title('ROC curves for three different models applied to SA heart data')"
   ]
  },
  {
   "cell_type": "code",
   "execution_count": null,
   "metadata": {},
   "outputs": [],
   "source": []
  }
 ],
 "metadata": {
  "kernelspec": {
   "display_name": "Python 3 (ipykernel)",
   "language": "python",
   "name": "python3"
  },
  "language_info": {
   "codemirror_mode": {
    "name": "ipython",
    "version": 3
   },
   "file_extension": ".py",
   "mimetype": "text/x-python",
   "name": "python",
   "nbconvert_exporter": "python",
   "pygments_lexer": "ipython3",
   "version": "3.9.7"
  }
 },
 "nbformat": 4,
 "nbformat_minor": 4
}
